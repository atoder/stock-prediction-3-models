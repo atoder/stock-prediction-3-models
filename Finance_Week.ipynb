{
  "nbformat": 4,
  "nbformat_minor": 0,
  "metadata": {
    "colab": {
      "name": "Copy of Finance Week",
      "version": "0.3.2",
      "provenance": [],
      "include_colab_link": true
    },
    "kernelspec": {
      "name": "python3",
      "display_name": "Python 3"
    },
    "accelerator": "GPU"
  },
  "cells": [
    {
      "cell_type": "markdown",
      "metadata": {
        "id": "view-in-github",
        "colab_type": "text"
      },
      "source": [
        "<a href=\"https://colab.research.google.com/github/atoder/stock-prediction-3-models/blob/master/Finance_Week.ipynb\" target=\"_parent\"><img src=\"https://colab.research.google.com/assets/colab-badge.svg\" alt=\"Open In Colab\"/></a>"
      ]
    },
    {
      "cell_type": "code",
      "metadata": {
        "id": "xt2b6MuJFGKS",
        "colab_type": "code",
        "colab": {}
      },
      "source": [
        ""
      ],
      "execution_count": 0,
      "outputs": []
    },
    {
      "cell_type": "markdown",
      "metadata": {
        "id": "C-zIXvW2FRuH",
        "colab_type": "text"
      },
      "source": [
        "# Task\n",
        "\n",
        "-- Create a reinforcement learning agent to predict stock prices\n",
        "\n",
        "- import dependencies\n",
        "- import dataset\n",
        "- define agent algorithm\n",
        "- make predictions\n",
        "- plot predictions\n",
        "\n",
        "---\n"
      ]
    },
    {
      "cell_type": "code",
      "metadata": {
        "id": "yxKhrDoSFLXp",
        "colab_type": "code",
        "outputId": "124e3c92-b774-44bd-d4da-df49d58cd99e",
        "colab": {
          "base_uri": "https://localhost:8080/",
          "height": 353
        }
      },
      "source": [
        "!pip install yfinance --upgrade -- no-cache-dir"
      ],
      "execution_count": 0,
      "outputs": [
        {
          "output_type": "stream",
          "text": [
            "Collecting yfinance\n",
            "  Downloading https://files.pythonhosted.org/packages/53/0e/40387099824c98be22cd7e33a620e9d38b61998b031f0b33f0b9959717d2/yfinance-0.1.45.tar.gz\n",
            "Requirement already satisfied, skipping upgrade: pandas>=0.24 in /usr/local/lib/python3.6/dist-packages (from yfinance) (0.24.2)\n",
            "Requirement already satisfied, skipping upgrade: numpy>=1.15 in /usr/local/lib/python3.6/dist-packages (from yfinance) (1.16.4)\n",
            "Requirement already satisfied, skipping upgrade: requests>=2.20 in /usr/local/lib/python3.6/dist-packages (from yfinance) (2.21.0)\n",
            "Requirement already satisfied, skipping upgrade: multitasking>=0.0.7 in /usr/local/lib/python3.6/dist-packages (from yfinance) (0.0.9)\n",
            "Requirement already satisfied, skipping upgrade: pytz>=2011k in /usr/local/lib/python3.6/dist-packages (from pandas>=0.24->yfinance) (2018.9)\n",
            "Requirement already satisfied, skipping upgrade: python-dateutil>=2.5.0 in /usr/local/lib/python3.6/dist-packages (from pandas>=0.24->yfinance) (2.5.3)\n",
            "Requirement already satisfied, skipping upgrade: certifi>=2017.4.17 in /usr/local/lib/python3.6/dist-packages (from requests>=2.20->yfinance) (2019.6.16)\n",
            "Requirement already satisfied, skipping upgrade: idna<2.9,>=2.5 in /usr/local/lib/python3.6/dist-packages (from requests>=2.20->yfinance) (2.8)\n",
            "Requirement already satisfied, skipping upgrade: chardet<3.1.0,>=3.0.2 in /usr/local/lib/python3.6/dist-packages (from requests>=2.20->yfinance) (3.0.4)\n",
            "Requirement already satisfied, skipping upgrade: urllib3<1.25,>=1.21.1 in /usr/local/lib/python3.6/dist-packages (from requests>=2.20->yfinance) (1.24.3)\n",
            "Requirement already satisfied, skipping upgrade: six>=1.5 in /usr/local/lib/python3.6/dist-packages (from python-dateutil>=2.5.0->pandas>=0.24->yfinance) (1.12.0)\n",
            "Building wheels for collected packages: yfinance\n",
            "  Building wheel for yfinance (setup.py) ... \u001b[?25l\u001b[?25hdone\n",
            "  Created wheel for yfinance: filename=yfinance-0.1.45-cp36-none-any.whl size=14652 sha256=36b1be9cca6bac23535295d342af76ff10c35107d067b4cb193e2382a799ef04\n",
            "  Stored in directory: /tmp/pip-ephem-wheel-cache-zmtbm906/wheels/0c/d1/df/aa9a7744a4ac353cc9a1f2c3aaea7c1f457fc49de4286f2d88\n",
            "Successfully built yfinance\n",
            "Installing collected packages: yfinance\n",
            "Successfully installed yfinance-0.1.45\n"
          ],
          "name": "stdout"
        }
      ]
    },
    {
      "cell_type": "code",
      "metadata": {
        "id": "y8yv6Zw0yKm_",
        "colab_type": "code",
        "outputId": "6e6e18d9-5701-451d-8161-fed96b87d59e",
        "colab": {
          "base_uri": "https://localhost:8080/",
          "height": 34
        }
      },
      "source": [
        ""
      ],
      "execution_count": 0,
      "outputs": [
        {
          "output_type": "stream",
          "text": [
            "Mounted at /drive/\n"
          ],
          "name": "stdout"
        }
      ]
    },
    {
      "cell_type": "markdown",
      "metadata": {
        "id": "o1wtUncq8lJd",
        "colab_type": "text"
      },
      "source": [
        "## - import dependencies + import dataset"
      ]
    },
    {
      "cell_type": "code",
      "metadata": {
        "id": "p4RUEIoA_Pz5",
        "colab_type": "code",
        "outputId": "ebf879a5-bb36-437e-e896-99de8450477a",
        "colab": {
          "base_uri": "https://localhost:8080/",
          "height": 123
        }
      },
      "source": [
        "#matrix math and data pre-processing\n",
        "import numpy as np\n",
        "\n",
        "#for data \n",
        "import pandas as pd\n",
        "\n",
        "# for plotting\n",
        "import matplotlib.pyplot as plt\n",
        "import seaborn as sns\n",
        "\n",
        "sns.set()\n",
        "\n",
        "\n",
        "#Modeling\n",
        "from sklearn.linear_model import LinearRegression, Ridge, Lasso\n",
        "from sklearn import preprocessing\n",
        "from sklearn.model_selection import train_test_split\n",
        "from sklearn.ensemble import GradientBoostingRegressor\n",
        "\n",
        "#Modeling Metrics\n",
        "from sklearn import metrics\n",
        "\n",
        "\n",
        "# reads data from csv file\n",
        "from pandas_datareader import data as pdr\n",
        "# downloads yahoo data directly\n",
        "import fix_yahoo_finance as yf\n",
        "\n",
        "yf.pdr_override()\n",
        "\n",
        "# Import Data \n",
        "df_full = pdr.get_data_yahoo('JPM',start=\"2018-08-01\").reset_index()\n",
        "df_full.to_csv('JPM2.csv', index=False)\n",
        "\n",
        "#Mount folder to save and retrieve data into .csv\n",
        "from google.colab import drive\n",
        "drive.mount('/drive/', force_remount=True)\n",
        "\n",
        "# rows by cols\n",
        "df_full.shape"
      ],
      "execution_count": 0,
      "outputs": [
        {
          "output_type": "stream",
          "text": [
            "[*********************100%***********************]  1 of 1 downloaded\n"
          ],
          "name": "stdout"
        }
      ]
    },
    {
      "cell_type": "code",
      "metadata": {
        "id": "xsAjVEpZL0bW",
        "colab_type": "code",
        "outputId": "dafb3687-4fbe-4ad8-c80e-9ed2b09c4f58",
        "colab": {
          "base_uri": "https://localhost:8080/",
          "height": 1000
        }
      },
      "source": [
        "\n",
        "\n",
        "df_full.head(40)\n"
      ],
      "execution_count": 0,
      "outputs": [
        {
          "output_type": "execute_result",
          "data": {
            "text/html": [
              "<div>\n",
              "<style scoped>\n",
              "    .dataframe tbody tr th:only-of-type {\n",
              "        vertical-align: middle;\n",
              "    }\n",
              "\n",
              "    .dataframe tbody tr th {\n",
              "        vertical-align: top;\n",
              "    }\n",
              "\n",
              "    .dataframe thead th {\n",
              "        text-align: right;\n",
              "    }\n",
              "</style>\n",
              "<table border=\"1\" class=\"dataframe\">\n",
              "  <thead>\n",
              "    <tr style=\"text-align: right;\">\n",
              "      <th></th>\n",
              "      <th>Date</th>\n",
              "      <th>Open</th>\n",
              "      <th>High</th>\n",
              "      <th>Low</th>\n",
              "      <th>Close</th>\n",
              "      <th>Adj Close</th>\n",
              "      <th>Volume</th>\n",
              "    </tr>\n",
              "  </thead>\n",
              "  <tbody>\n",
              "    <tr>\n",
              "      <th>0</th>\n",
              "      <td>2018-08-01</td>\n",
              "      <td>115.750000</td>\n",
              "      <td>116.690002</td>\n",
              "      <td>115.279999</td>\n",
              "      <td>115.660004</td>\n",
              "      <td>112.270470</td>\n",
              "      <td>13531600</td>\n",
              "    </tr>\n",
              "    <tr>\n",
              "      <th>1</th>\n",
              "      <td>2018-08-02</td>\n",
              "      <td>114.570000</td>\n",
              "      <td>116.250000</td>\n",
              "      <td>114.330002</td>\n",
              "      <td>116.150002</td>\n",
              "      <td>112.746109</td>\n",
              "      <td>11058100</td>\n",
              "    </tr>\n",
              "    <tr>\n",
              "      <th>2</th>\n",
              "      <td>2018-08-03</td>\n",
              "      <td>116.000000</td>\n",
              "      <td>117.129997</td>\n",
              "      <td>115.940002</td>\n",
              "      <td>117.089996</td>\n",
              "      <td>113.658554</td>\n",
              "      <td>11016100</td>\n",
              "    </tr>\n",
              "    <tr>\n",
              "      <th>3</th>\n",
              "      <td>2018-08-06</td>\n",
              "      <td>116.790001</td>\n",
              "      <td>117.529999</td>\n",
              "      <td>116.180000</td>\n",
              "      <td>117.120003</td>\n",
              "      <td>113.687683</td>\n",
              "      <td>9857400</td>\n",
              "    </tr>\n",
              "    <tr>\n",
              "      <th>4</th>\n",
              "      <td>2018-08-07</td>\n",
              "      <td>117.739998</td>\n",
              "      <td>118.290001</td>\n",
              "      <td>117.330002</td>\n",
              "      <td>117.550003</td>\n",
              "      <td>114.105087</td>\n",
              "      <td>10562100</td>\n",
              "    </tr>\n",
              "    <tr>\n",
              "      <th>5</th>\n",
              "      <td>2018-08-08</td>\n",
              "      <td>117.330002</td>\n",
              "      <td>118.269997</td>\n",
              "      <td>117.279999</td>\n",
              "      <td>117.790001</td>\n",
              "      <td>114.338051</td>\n",
              "      <td>8997100</td>\n",
              "    </tr>\n",
              "    <tr>\n",
              "      <th>6</th>\n",
              "      <td>2018-08-09</td>\n",
              "      <td>117.510002</td>\n",
              "      <td>117.720001</td>\n",
              "      <td>116.699997</td>\n",
              "      <td>116.879997</td>\n",
              "      <td>113.454704</td>\n",
              "      <td>9694200</td>\n",
              "    </tr>\n",
              "    <tr>\n",
              "      <th>7</th>\n",
              "      <td>2018-08-10</td>\n",
              "      <td>115.500000</td>\n",
              "      <td>115.949997</td>\n",
              "      <td>114.680000</td>\n",
              "      <td>115.730003</td>\n",
              "      <td>112.338417</td>\n",
              "      <td>12630600</td>\n",
              "    </tr>\n",
              "    <tr>\n",
              "      <th>8</th>\n",
              "      <td>2018-08-13</td>\n",
              "      <td>115.559998</td>\n",
              "      <td>115.879997</td>\n",
              "      <td>113.820000</td>\n",
              "      <td>113.889999</td>\n",
              "      <td>110.552330</td>\n",
              "      <td>10336300</td>\n",
              "    </tr>\n",
              "    <tr>\n",
              "      <th>9</th>\n",
              "      <td>2018-08-14</td>\n",
              "      <td>114.269997</td>\n",
              "      <td>115.040001</td>\n",
              "      <td>113.650002</td>\n",
              "      <td>114.650002</td>\n",
              "      <td>111.290070</td>\n",
              "      <td>10597600</td>\n",
              "    </tr>\n",
              "    <tr>\n",
              "      <th>10</th>\n",
              "      <td>2018-08-15</td>\n",
              "      <td>113.820000</td>\n",
              "      <td>114.330002</td>\n",
              "      <td>112.970001</td>\n",
              "      <td>113.699997</td>\n",
              "      <td>110.367912</td>\n",
              "      <td>10152100</td>\n",
              "    </tr>\n",
              "    <tr>\n",
              "      <th>11</th>\n",
              "      <td>2018-08-16</td>\n",
              "      <td>114.349998</td>\n",
              "      <td>115.309998</td>\n",
              "      <td>114.300003</td>\n",
              "      <td>114.769997</td>\n",
              "      <td>111.406548</td>\n",
              "      <td>10118600</td>\n",
              "    </tr>\n",
              "    <tr>\n",
              "      <th>12</th>\n",
              "      <td>2018-08-17</td>\n",
              "      <td>114.639999</td>\n",
              "      <td>115.070000</td>\n",
              "      <td>114.300003</td>\n",
              "      <td>114.769997</td>\n",
              "      <td>111.406548</td>\n",
              "      <td>8505100</td>\n",
              "    </tr>\n",
              "    <tr>\n",
              "      <th>13</th>\n",
              "      <td>2018-08-20</td>\n",
              "      <td>114.589996</td>\n",
              "      <td>115.050003</td>\n",
              "      <td>114.110001</td>\n",
              "      <td>114.620003</td>\n",
              "      <td>111.260948</td>\n",
              "      <td>8618700</td>\n",
              "    </tr>\n",
              "    <tr>\n",
              "      <th>14</th>\n",
              "      <td>2018-08-21</td>\n",
              "      <td>115.370003</td>\n",
              "      <td>116.389999</td>\n",
              "      <td>114.879997</td>\n",
              "      <td>115.320000</td>\n",
              "      <td>111.940422</td>\n",
              "      <td>10976700</td>\n",
              "    </tr>\n",
              "    <tr>\n",
              "      <th>15</th>\n",
              "      <td>2018-08-22</td>\n",
              "      <td>115.309998</td>\n",
              "      <td>115.410004</td>\n",
              "      <td>114.779999</td>\n",
              "      <td>114.970001</td>\n",
              "      <td>111.600693</td>\n",
              "      <td>8314700</td>\n",
              "    </tr>\n",
              "    <tr>\n",
              "      <th>16</th>\n",
              "      <td>2018-08-23</td>\n",
              "      <td>114.959999</td>\n",
              "      <td>115.150002</td>\n",
              "      <td>114.430000</td>\n",
              "      <td>114.730003</td>\n",
              "      <td>111.367729</td>\n",
              "      <td>9265400</td>\n",
              "    </tr>\n",
              "    <tr>\n",
              "      <th>17</th>\n",
              "      <td>2018-08-24</td>\n",
              "      <td>114.980003</td>\n",
              "      <td>115.220001</td>\n",
              "      <td>114.449997</td>\n",
              "      <td>114.680000</td>\n",
              "      <td>111.319183</td>\n",
              "      <td>8845700</td>\n",
              "    </tr>\n",
              "    <tr>\n",
              "      <th>18</th>\n",
              "      <td>2018-08-27</td>\n",
              "      <td>115.220001</td>\n",
              "      <td>117.279999</td>\n",
              "      <td>115.169998</td>\n",
              "      <td>116.709999</td>\n",
              "      <td>113.289696</td>\n",
              "      <td>13768000</td>\n",
              "    </tr>\n",
              "    <tr>\n",
              "      <th>19</th>\n",
              "      <td>2018-08-28</td>\n",
              "      <td>117.000000</td>\n",
              "      <td>117.029999</td>\n",
              "      <td>115.970001</td>\n",
              "      <td>116.139999</td>\n",
              "      <td>112.736397</td>\n",
              "      <td>8302600</td>\n",
              "    </tr>\n",
              "    <tr>\n",
              "      <th>20</th>\n",
              "      <td>2018-08-29</td>\n",
              "      <td>116.349998</td>\n",
              "      <td>116.370003</td>\n",
              "      <td>115.360001</td>\n",
              "      <td>115.760002</td>\n",
              "      <td>112.367538</td>\n",
              "      <td>7221700</td>\n",
              "    </tr>\n",
              "    <tr>\n",
              "      <th>21</th>\n",
              "      <td>2018-08-30</td>\n",
              "      <td>115.589996</td>\n",
              "      <td>116.040001</td>\n",
              "      <td>114.980003</td>\n",
              "      <td>115.190002</td>\n",
              "      <td>111.814247</td>\n",
              "      <td>8991800</td>\n",
              "    </tr>\n",
              "    <tr>\n",
              "      <th>22</th>\n",
              "      <td>2018-08-31</td>\n",
              "      <td>114.830002</td>\n",
              "      <td>114.839996</td>\n",
              "      <td>113.820000</td>\n",
              "      <td>114.580002</td>\n",
              "      <td>111.222122</td>\n",
              "      <td>13065700</td>\n",
              "    </tr>\n",
              "    <tr>\n",
              "      <th>23</th>\n",
              "      <td>2018-09-04</td>\n",
              "      <td>114.339996</td>\n",
              "      <td>115.239998</td>\n",
              "      <td>113.629997</td>\n",
              "      <td>115.150002</td>\n",
              "      <td>111.775421</td>\n",
              "      <td>10174200</td>\n",
              "    </tr>\n",
              "    <tr>\n",
              "      <th>24</th>\n",
              "      <td>2018-09-05</td>\n",
              "      <td>115.000000</td>\n",
              "      <td>115.699997</td>\n",
              "      <td>114.250000</td>\n",
              "      <td>114.589996</td>\n",
              "      <td>111.231819</td>\n",
              "      <td>11462400</td>\n",
              "    </tr>\n",
              "    <tr>\n",
              "      <th>25</th>\n",
              "      <td>2018-09-06</td>\n",
              "      <td>114.500000</td>\n",
              "      <td>114.699997</td>\n",
              "      <td>113.500000</td>\n",
              "      <td>114.099998</td>\n",
              "      <td>110.756180</td>\n",
              "      <td>9877600</td>\n",
              "    </tr>\n",
              "    <tr>\n",
              "      <th>26</th>\n",
              "      <td>2018-09-07</td>\n",
              "      <td>114.500000</td>\n",
              "      <td>114.769997</td>\n",
              "      <td>113.629997</td>\n",
              "      <td>114.320000</td>\n",
              "      <td>110.969734</td>\n",
              "      <td>10955600</td>\n",
              "    </tr>\n",
              "    <tr>\n",
              "      <th>27</th>\n",
              "      <td>2018-09-10</td>\n",
              "      <td>114.849998</td>\n",
              "      <td>114.970001</td>\n",
              "      <td>113.660004</td>\n",
              "      <td>113.709999</td>\n",
              "      <td>110.377617</td>\n",
              "      <td>8276900</td>\n",
              "    </tr>\n",
              "    <tr>\n",
              "      <th>28</th>\n",
              "      <td>2018-09-11</td>\n",
              "      <td>113.540001</td>\n",
              "      <td>114.580002</td>\n",
              "      <td>113.180000</td>\n",
              "      <td>114.430000</td>\n",
              "      <td>111.076515</td>\n",
              "      <td>9333800</td>\n",
              "    </tr>\n",
              "    <tr>\n",
              "      <th>29</th>\n",
              "      <td>2018-09-12</td>\n",
              "      <td>114.250000</td>\n",
              "      <td>114.879997</td>\n",
              "      <td>112.849998</td>\n",
              "      <td>113.080002</td>\n",
              "      <td>109.766075</td>\n",
              "      <td>10800800</td>\n",
              "    </tr>\n",
              "    <tr>\n",
              "      <th>30</th>\n",
              "      <td>2018-09-13</td>\n",
              "      <td>113.370003</td>\n",
              "      <td>114.129997</td>\n",
              "      <td>112.669998</td>\n",
              "      <td>113.519997</td>\n",
              "      <td>110.193184</td>\n",
              "      <td>12470800</td>\n",
              "    </tr>\n",
              "    <tr>\n",
              "      <th>31</th>\n",
              "      <td>2018-09-14</td>\n",
              "      <td>113.809998</td>\n",
              "      <td>114.489998</td>\n",
              "      <td>113.230003</td>\n",
              "      <td>113.500000</td>\n",
              "      <td>110.173767</td>\n",
              "      <td>10337900</td>\n",
              "    </tr>\n",
              "    <tr>\n",
              "      <th>32</th>\n",
              "      <td>2018-09-17</td>\n",
              "      <td>113.790001</td>\n",
              "      <td>114.430000</td>\n",
              "      <td>113.300003</td>\n",
              "      <td>113.839996</td>\n",
              "      <td>110.503807</td>\n",
              "      <td>9561300</td>\n",
              "    </tr>\n",
              "    <tr>\n",
              "      <th>33</th>\n",
              "      <td>2018-09-18</td>\n",
              "      <td>114.330002</td>\n",
              "      <td>114.660004</td>\n",
              "      <td>113.559998</td>\n",
              "      <td>114.300003</td>\n",
              "      <td>110.950317</td>\n",
              "      <td>7944200</td>\n",
              "    </tr>\n",
              "    <tr>\n",
              "      <th>34</th>\n",
              "      <td>2018-09-19</td>\n",
              "      <td>114.440002</td>\n",
              "      <td>118.059998</td>\n",
              "      <td>114.440002</td>\n",
              "      <td>117.620003</td>\n",
              "      <td>114.173035</td>\n",
              "      <td>16052800</td>\n",
              "    </tr>\n",
              "    <tr>\n",
              "      <th>35</th>\n",
              "      <td>2018-09-20</td>\n",
              "      <td>118.500000</td>\n",
              "      <td>119.239998</td>\n",
              "      <td>118.080002</td>\n",
              "      <td>118.629997</td>\n",
              "      <td>115.153419</td>\n",
              "      <td>15590000</td>\n",
              "    </tr>\n",
              "    <tr>\n",
              "      <th>36</th>\n",
              "      <td>2018-09-21</td>\n",
              "      <td>119.129997</td>\n",
              "      <td>119.230003</td>\n",
              "      <td>117.739998</td>\n",
              "      <td>117.849998</td>\n",
              "      <td>114.396286</td>\n",
              "      <td>24788200</td>\n",
              "    </tr>\n",
              "    <tr>\n",
              "      <th>37</th>\n",
              "      <td>2018-09-24</td>\n",
              "      <td>117.760002</td>\n",
              "      <td>118.459999</td>\n",
              "      <td>116.430000</td>\n",
              "      <td>116.720001</td>\n",
              "      <td>113.299400</td>\n",
              "      <td>12492500</td>\n",
              "    </tr>\n",
              "    <tr>\n",
              "      <th>38</th>\n",
              "      <td>2018-09-25</td>\n",
              "      <td>117.040001</td>\n",
              "      <td>117.970001</td>\n",
              "      <td>116.320000</td>\n",
              "      <td>116.389999</td>\n",
              "      <td>112.979080</td>\n",
              "      <td>9308300</td>\n",
              "    </tr>\n",
              "    <tr>\n",
              "      <th>39</th>\n",
              "      <td>2018-09-26</td>\n",
              "      <td>116.750000</td>\n",
              "      <td>116.870003</td>\n",
              "      <td>114.660004</td>\n",
              "      <td>115.019997</td>\n",
              "      <td>111.649223</td>\n",
              "      <td>14023600</td>\n",
              "    </tr>\n",
              "  </tbody>\n",
              "</table>\n",
              "</div>"
            ],
            "text/plain": [
              "         Date        Open        High  ...       Close   Adj Close    Volume\n",
              "0  2018-08-01  115.750000  116.690002  ...  115.660004  112.270470  13531600\n",
              "1  2018-08-02  114.570000  116.250000  ...  116.150002  112.746109  11058100\n",
              "2  2018-08-03  116.000000  117.129997  ...  117.089996  113.658554  11016100\n",
              "3  2018-08-06  116.790001  117.529999  ...  117.120003  113.687683   9857400\n",
              "4  2018-08-07  117.739998  118.290001  ...  117.550003  114.105087  10562100\n",
              "5  2018-08-08  117.330002  118.269997  ...  117.790001  114.338051   8997100\n",
              "6  2018-08-09  117.510002  117.720001  ...  116.879997  113.454704   9694200\n",
              "7  2018-08-10  115.500000  115.949997  ...  115.730003  112.338417  12630600\n",
              "8  2018-08-13  115.559998  115.879997  ...  113.889999  110.552330  10336300\n",
              "9  2018-08-14  114.269997  115.040001  ...  114.650002  111.290070  10597600\n",
              "10 2018-08-15  113.820000  114.330002  ...  113.699997  110.367912  10152100\n",
              "11 2018-08-16  114.349998  115.309998  ...  114.769997  111.406548  10118600\n",
              "12 2018-08-17  114.639999  115.070000  ...  114.769997  111.406548   8505100\n",
              "13 2018-08-20  114.589996  115.050003  ...  114.620003  111.260948   8618700\n",
              "14 2018-08-21  115.370003  116.389999  ...  115.320000  111.940422  10976700\n",
              "15 2018-08-22  115.309998  115.410004  ...  114.970001  111.600693   8314700\n",
              "16 2018-08-23  114.959999  115.150002  ...  114.730003  111.367729   9265400\n",
              "17 2018-08-24  114.980003  115.220001  ...  114.680000  111.319183   8845700\n",
              "18 2018-08-27  115.220001  117.279999  ...  116.709999  113.289696  13768000\n",
              "19 2018-08-28  117.000000  117.029999  ...  116.139999  112.736397   8302600\n",
              "20 2018-08-29  116.349998  116.370003  ...  115.760002  112.367538   7221700\n",
              "21 2018-08-30  115.589996  116.040001  ...  115.190002  111.814247   8991800\n",
              "22 2018-08-31  114.830002  114.839996  ...  114.580002  111.222122  13065700\n",
              "23 2018-09-04  114.339996  115.239998  ...  115.150002  111.775421  10174200\n",
              "24 2018-09-05  115.000000  115.699997  ...  114.589996  111.231819  11462400\n",
              "25 2018-09-06  114.500000  114.699997  ...  114.099998  110.756180   9877600\n",
              "26 2018-09-07  114.500000  114.769997  ...  114.320000  110.969734  10955600\n",
              "27 2018-09-10  114.849998  114.970001  ...  113.709999  110.377617   8276900\n",
              "28 2018-09-11  113.540001  114.580002  ...  114.430000  111.076515   9333800\n",
              "29 2018-09-12  114.250000  114.879997  ...  113.080002  109.766075  10800800\n",
              "30 2018-09-13  113.370003  114.129997  ...  113.519997  110.193184  12470800\n",
              "31 2018-09-14  113.809998  114.489998  ...  113.500000  110.173767  10337900\n",
              "32 2018-09-17  113.790001  114.430000  ...  113.839996  110.503807   9561300\n",
              "33 2018-09-18  114.330002  114.660004  ...  114.300003  110.950317   7944200\n",
              "34 2018-09-19  114.440002  118.059998  ...  117.620003  114.173035  16052800\n",
              "35 2018-09-20  118.500000  119.239998  ...  118.629997  115.153419  15590000\n",
              "36 2018-09-21  119.129997  119.230003  ...  117.849998  114.396286  24788200\n",
              "37 2018-09-24  117.760002  118.459999  ...  116.720001  113.299400  12492500\n",
              "38 2018-09-25  117.040001  117.970001  ...  116.389999  112.979080   9308300\n",
              "39 2018-09-26  116.750000  116.870003  ...  115.019997  111.649223  14023600\n",
              "\n",
              "[40 rows x 7 columns]"
            ]
          },
          "metadata": {
            "tags": []
          },
          "execution_count": 68
        }
      ]
    },
    {
      "cell_type": "code",
      "metadata": {
        "id": "0q62e1cxS7Vj",
        "colab_type": "code",
        "outputId": "b737c7bf-162e-4609-bd69-105046a8a871",
        "colab": {
          "base_uri": "https://localhost:8080/",
          "height": 1000
        }
      },
      "source": [
        "\n",
        "df_full.describe"
      ],
      "execution_count": 0,
      "outputs": [
        {
          "output_type": "execute_result",
          "data": {
            "text/plain": [
              "<bound method NDFrame.describe of           Date        Open        High  ...       Close   Adj Close    Volume\n",
              "0   2018-08-01  115.750000  116.690002  ...  115.660004  112.270470  13531600\n",
              "1   2018-08-02  114.570000  116.250000  ...  116.150002  112.746109  11058100\n",
              "2   2018-08-03  116.000000  117.129997  ...  117.089996  113.658554  11016100\n",
              "3   2018-08-06  116.790001  117.529999  ...  117.120003  113.687683   9857400\n",
              "4   2018-08-07  117.739998  118.290001  ...  117.550003  114.105087  10562100\n",
              "5   2018-08-08  117.330002  118.269997  ...  117.790001  114.338051   8997100\n",
              "6   2018-08-09  117.510002  117.720001  ...  116.879997  113.454704   9694200\n",
              "7   2018-08-10  115.500000  115.949997  ...  115.730003  112.338417  12630600\n",
              "8   2018-08-13  115.559998  115.879997  ...  113.889999  110.552330  10336300\n",
              "9   2018-08-14  114.269997  115.040001  ...  114.650002  111.290070  10597600\n",
              "10  2018-08-15  113.820000  114.330002  ...  113.699997  110.367912  10152100\n",
              "11  2018-08-16  114.349998  115.309998  ...  114.769997  111.406548  10118600\n",
              "12  2018-08-17  114.639999  115.070000  ...  114.769997  111.406548   8505100\n",
              "13  2018-08-20  114.589996  115.050003  ...  114.620003  111.260948   8618700\n",
              "14  2018-08-21  115.370003  116.389999  ...  115.320000  111.940422  10976700\n",
              "15  2018-08-22  115.309998  115.410004  ...  114.970001  111.600693   8314700\n",
              "16  2018-08-23  114.959999  115.150002  ...  114.730003  111.367729   9265400\n",
              "17  2018-08-24  114.980003  115.220001  ...  114.680000  111.319183   8845700\n",
              "18  2018-08-27  115.220001  117.279999  ...  116.709999  113.289696  13768000\n",
              "19  2018-08-28  117.000000  117.029999  ...  116.139999  112.736397   8302600\n",
              "20  2018-08-29  116.349998  116.370003  ...  115.760002  112.367538   7221700\n",
              "21  2018-08-30  115.589996  116.040001  ...  115.190002  111.814247   8991800\n",
              "22  2018-08-31  114.830002  114.839996  ...  114.580002  111.222122  13065700\n",
              "23  2018-09-04  114.339996  115.239998  ...  115.150002  111.775421  10174200\n",
              "24  2018-09-05  115.000000  115.699997  ...  114.589996  111.231819  11462400\n",
              "25  2018-09-06  114.500000  114.699997  ...  114.099998  110.756180   9877600\n",
              "26  2018-09-07  114.500000  114.769997  ...  114.320000  110.969734  10955600\n",
              "27  2018-09-10  114.849998  114.970001  ...  113.709999  110.377617   8276900\n",
              "28  2018-09-11  113.540001  114.580002  ...  114.430000  111.076515   9333800\n",
              "29  2018-09-12  114.250000  114.879997  ...  113.080002  109.766075  10800800\n",
              "..         ...         ...         ...  ...         ...         ...       ...\n",
              "251 2019-08-01  115.330002  116.800003  ...  112.940002  112.940002  15664500\n",
              "252 2019-08-02  112.400002  113.430000  ...  112.930000  112.930000  11025500\n",
              "253 2019-08-05  110.790001  110.980003  ...  109.570000  109.570000  15855300\n",
              "254 2019-08-06  110.050003  110.500000  ...  110.430000  110.430000  10203500\n",
              "255 2019-08-07  108.000000  108.279999  ...  108.029999  108.029999  17320900\n",
              "256 2019-08-08  109.050003  110.080002  ...  109.860001  109.860001  10903300\n",
              "257 2019-08-09  109.349998  110.449997  ...  109.739998  109.739998   9980800\n",
              "258 2019-08-12  108.440002  108.510002  ...  107.680000  107.680000   8437200\n",
              "259 2019-08-13  107.949997  110.330002  ...  109.339996  109.339996  12124700\n",
              "260 2019-08-14  106.300003  106.910004  ...  104.800003  104.800003  19491800\n",
              "261 2019-08-15  104.820000  106.379997  ...  105.199997  105.199997  13365600\n",
              "262 2019-08-16  106.370003  107.980003  ...  107.720001  107.720001  11830600\n",
              "263 2019-08-19  109.629997  109.750000  ...  108.690002  108.690002   8265400\n",
              "264 2019-08-20  107.849998  108.440002  ...  107.309998  107.309998   8374000\n",
              "265 2019-08-21  108.209999  108.430000  ...  107.610001  107.610001   8189300\n",
              "266 2019-08-22  108.370003  109.269997  ...  108.720001  108.720001   9343400\n",
              "267 2019-08-23  108.000000  108.779999  ...  106.019997  106.019997  14762300\n",
              "268 2019-08-26  106.620003  106.989998  ...  106.870003  106.870003   8209500\n",
              "269 2019-08-27  107.349998  107.559998  ...  105.739998  105.739998  14331800\n",
              "270 2019-08-28  105.080002  107.209999  ...  106.800003  106.800003  10585500\n",
              "271 2019-08-29  108.139999  109.889999  ...  109.220001  109.220001  10002200\n",
              "272 2019-08-30  109.839996  110.559998  ...  109.860001  109.860001  10170300\n",
              "273 2019-09-03  108.980003  108.989998  ...  108.559998  108.559998   9868800\n",
              "274 2019-09-04  109.449997  110.220001  ...  109.870003  109.870003   6929200\n",
              "275 2019-09-05  111.250000  113.720001  ...  112.370003  112.370003  13224700\n",
              "276 2019-09-06  112.660004  112.980003  ...  112.610001  112.610001   7836600\n",
              "277 2019-09-09  113.709999  116.059998  ...  115.400002  115.400002  13985100\n",
              "278 2019-09-10  116.300003  117.269997  ...  116.870003  116.870003  14333100\n",
              "279 2019-09-11  116.889999  117.199997  ...  117.190002  117.190002   9919200\n",
              "280 2019-09-12  116.550003  118.470001  ...  117.910004  117.910004  12220300\n",
              "\n",
              "[281 rows x 7 columns]>"
            ]
          },
          "metadata": {
            "tags": []
          },
          "execution_count": 69
        }
      ]
    },
    {
      "cell_type": "code",
      "metadata": {
        "id": "-7OIWmh9TFF6",
        "colab_type": "code",
        "outputId": "af9b8128-baa3-464a-ba5e-4f5e30e85f0d",
        "colab": {
          "base_uri": "https://localhost:8080/",
          "height": 291
        }
      },
      "source": [
        "df_full['Adj Close'].plot()"
      ],
      "execution_count": 0,
      "outputs": [
        {
          "output_type": "execute_result",
          "data": {
            "text/plain": [
              "<matplotlib.axes._subplots.AxesSubplot at 0x7fb4249676d8>"
            ]
          },
          "metadata": {
            "tags": []
          },
          "execution_count": 70
        },
        {
          "output_type": "display_data",
          "data": {
            "image/png": "[encoded data removed]",
            "text/plain": [
              "<Figure size 432x288 with 1 Axes>"
            ]
          },
          "metadata": {
            "tags": []
          }
        }
      ]
    },
    {
      "cell_type": "code",
      "metadata": {
        "id": "5Qtp8tsoUR89",
        "colab_type": "code",
        "colab": {}
      },
      "source": [
        ""
      ],
      "execution_count": 0,
      "outputs": []
    },
    {
      "cell_type": "markdown",
      "metadata": {
        "id": "l57fq5cu9A7T",
        "colab_type": "text"
      },
      "source": [
        "# Data Preproccessing"
      ]
    },
    {
      "cell_type": "code",
      "metadata": {
        "id": "dhh2XQgyUeQH",
        "colab_type": "code",
        "colab": {}
      },
      "source": [
        "# reset index - Data Preproccessing\n",
        "df_full.set_index(\"Date\", inplace=True)"
      ],
      "execution_count": 0,
      "outputs": []
    },
    {
      "cell_type": "code",
      "metadata": {
        "id": "W931FOKBX4Ed",
        "colab_type": "code",
        "outputId": "e989ae91-35f6-4fe8-f702-7163ab4e583a",
        "colab": {
          "base_uri": "https://localhost:8080/",
          "height": 235
        }
      },
      "source": [
        "df_full.head()"
      ],
      "execution_count": 0,
      "outputs": [
        {
          "output_type": "execute_result",
          "data": {
            "text/html": [
              "<div>\n",
              "<style scoped>\n",
              "    .dataframe tbody tr th:only-of-type {\n",
              "        vertical-align: middle;\n",
              "    }\n",
              "\n",
              "    .dataframe tbody tr th {\n",
              "        vertical-align: top;\n",
              "    }\n",
              "\n",
              "    .dataframe thead th {\n",
              "        text-align: right;\n",
              "    }\n",
              "</style>\n",
              "<table border=\"1\" class=\"dataframe\">\n",
              "  <thead>\n",
              "    <tr style=\"text-align: right;\">\n",
              "      <th></th>\n",
              "      <th>Open</th>\n",
              "      <th>High</th>\n",
              "      <th>Low</th>\n",
              "      <th>Close</th>\n",
              "      <th>Adj Close</th>\n",
              "      <th>Volume</th>\n",
              "    </tr>\n",
              "    <tr>\n",
              "      <th>Date</th>\n",
              "      <th></th>\n",
              "      <th></th>\n",
              "      <th></th>\n",
              "      <th></th>\n",
              "      <th></th>\n",
              "      <th></th>\n",
              "    </tr>\n",
              "  </thead>\n",
              "  <tbody>\n",
              "    <tr>\n",
              "      <th>2018-08-01</th>\n",
              "      <td>115.750000</td>\n",
              "      <td>116.690002</td>\n",
              "      <td>115.279999</td>\n",
              "      <td>115.660004</td>\n",
              "      <td>112.270470</td>\n",
              "      <td>13531600</td>\n",
              "    </tr>\n",
              "    <tr>\n",
              "      <th>2018-08-02</th>\n",
              "      <td>114.570000</td>\n",
              "      <td>116.250000</td>\n",
              "      <td>114.330002</td>\n",
              "      <td>116.150002</td>\n",
              "      <td>112.746109</td>\n",
              "      <td>11058100</td>\n",
              "    </tr>\n",
              "    <tr>\n",
              "      <th>2018-08-03</th>\n",
              "      <td>116.000000</td>\n",
              "      <td>117.129997</td>\n",
              "      <td>115.940002</td>\n",
              "      <td>117.089996</td>\n",
              "      <td>113.658554</td>\n",
              "      <td>11016100</td>\n",
              "    </tr>\n",
              "    <tr>\n",
              "      <th>2018-08-06</th>\n",
              "      <td>116.790001</td>\n",
              "      <td>117.529999</td>\n",
              "      <td>116.180000</td>\n",
              "      <td>117.120003</td>\n",
              "      <td>113.687683</td>\n",
              "      <td>9857400</td>\n",
              "    </tr>\n",
              "    <tr>\n",
              "      <th>2018-08-07</th>\n",
              "      <td>117.739998</td>\n",
              "      <td>118.290001</td>\n",
              "      <td>117.330002</td>\n",
              "      <td>117.550003</td>\n",
              "      <td>114.105087</td>\n",
              "      <td>10562100</td>\n",
              "    </tr>\n",
              "  </tbody>\n",
              "</table>\n",
              "</div>"
            ],
            "text/plain": [
              "                  Open        High  ...   Adj Close    Volume\n",
              "Date                                ...                      \n",
              "2018-08-01  115.750000  116.690002  ...  112.270470  13531600\n",
              "2018-08-02  114.570000  116.250000  ...  112.746109  11058100\n",
              "2018-08-03  116.000000  117.129997  ...  113.658554  11016100\n",
              "2018-08-06  116.790001  117.529999  ...  113.687683   9857400\n",
              "2018-08-07  117.739998  118.290001  ...  114.105087  10562100\n",
              "\n",
              "[5 rows x 6 columns]"
            ]
          },
          "metadata": {
            "tags": []
          },
          "execution_count": 72
        }
      ]
    },
    {
      "cell_type": "code",
      "metadata": {
        "id": "Wb26RKDoX_Wu",
        "colab_type": "code",
        "colab": {}
      },
      "source": [
        "window_size=32\n",
        "num_samples=len(df_full)-window_size\n",
        "\n",
        "# Get indices of access for the data\n",
        "indices=np.arange(num_samples).astype(np.int)[:,None]+np.arange(window_size+1).astype(np.int)\n",
        "\n",
        "\n",
        "data = df_full['Adj Close'].values[indices] # Create the 2D matrix of training samples\n",
        "x = data[:,:-1] # Each row represents 32 days in the past\n",
        "y = data[:,-1] # Each output value represents the 33rd day"
      ],
      "execution_count": 0,
      "outputs": []
    },
    {
      "cell_type": "code",
      "metadata": {
        "id": "bty-hkstYxvA",
        "colab_type": "code",
        "outputId": "57d61738-b1f9-451b-acc0-cea6f28e8e9b",
        "colab": {
          "base_uri": "https://localhost:8080/",
          "height": 238
        }
      },
      "source": [
        "x\n",
        "\n"
      ],
      "execution_count": 0,
      "outputs": [
        {
          "output_type": "execute_result",
          "data": {
            "text/plain": [
              "array([[112.27047 , 112.746109, 113.658554, ..., 109.766075, 110.193184,\n",
              "        110.173767],\n",
              "       [112.746109, 113.658554, 113.687683, ..., 110.193184, 110.173767,\n",
              "        110.503807],\n",
              "       [113.658554, 113.687683, 114.105087, ..., 110.173767, 110.503807,\n",
              "        110.950317],\n",
              "       ...,\n",
              "       [115.709999, 116.220001, 115.849998, ..., 112.370003, 112.610001,\n",
              "        115.400002],\n",
              "       [116.220001, 115.849998, 115.589996, ..., 112.610001, 115.400002,\n",
              "        116.870003],\n",
              "       [115.849998, 115.589996, 116.      , ..., 115.400002, 116.870003,\n",
              "        117.190002]])"
            ]
          },
          "metadata": {
            "tags": []
          },
          "execution_count": 74
        }
      ]
    },
    {
      "cell_type": "code",
      "metadata": {
        "id": "xmdBB566ZDO3",
        "colab_type": "code",
        "outputId": "61e37622-8d50-4c02-88f5-aaf9aa0a0108",
        "colab": {
          "base_uri": "https://localhost:8080/",
          "height": 867
        }
      },
      "source": [
        "y\n"
      ],
      "execution_count": 0,
      "outputs": [
        {
          "output_type": "execute_result",
          "data": {
            "text/plain": [
              "array([110.503807, 110.950317, 114.173035, 115.153419, 114.396286,\n",
              "       113.2994  , 112.97908 , 111.649223, 111.163872, 109.533104,\n",
              "       110.173767, 110.62999 , 111.66864 , 112.675446, 112.040085,\n",
              "       112.724319, 111.942329, 108.960983, 105.696159, 104.542717,\n",
              "       103.946442, 106.175133, 107.357903, 105.657059, 105.48111 ,\n",
              "       103.966003, 102.880989, 100.965103, 102.499771, 101.092171,\n",
              "       102.48999 , 104.298347, 106.566116, 106.527031, 105.940529,\n",
              "       106.634544, 107.133072, 108.970764, 109.850502, 108.785027,\n",
              "       106.497704, 107.123291, 104.914169, 107.592499, 107.514297,\n",
              "       108.335388, 106.008949, 105.217186, 104.249474, 106.800728,\n",
              "       107.250374, 108.442917, 107.582718, 108.687286, 109.713646,\n",
              "       104.816422, 102.822342, 100.965103,  99.078545,  98.110832,\n",
              "        98.746193,  98.843941,  98.032631,  96.781433,  96.322014,\n",
              "        95.100151,  94.279053,  92.050377,  90.066071,  93.800095,\n",
              "        94.855774,  94.650513,  95.422729,  97.074684,  95.695084,\n",
              "        99.222923,  99.291908,  99.104668,  98.937149,  98.927292,\n",
              "        98.454292,  99.469284, 100.198494, 101.006546, 101.420425,\n",
              "       103.066093, 101.44014 , 101.183929, 101.24305 , 101.883583,\n",
              "       102.36644 , 102.652214, 102.888725, 101.991982, 102.36644 ,\n",
              "       102.731049, 102.277756, 102.228485, 100.88829 ,  99.883163,\n",
              "        99.410149, 101.105087, 101.587952, 100.927711, 104.012108,\n",
              "       103.647499, 104.15007 , 103.933281, 103.470123, 104.5541  ,\n",
              "       103.755898, 103.627792, 102.839455, 102.908432, 102.671928,\n",
              "       102.593086, 102.208778, 101.469704, 101.509117, 102.829597,\n",
              "       102.524109, 102.869011, 103.805161, 104.997543, 105.62822 ,\n",
              "       105.243896, 102.997108, 101.371162,  98.306473,  97.488564,\n",
              "        98.464142,  98.129097,  99.24263 ,  99.755058, 103.115372,\n",
              "       103.608078, 103.815018, 104.817924, 104.569679, 104.907295,\n",
              "       104.132774, 104.599464, 105.483215, 110.428207, 109.167137,\n",
              "       110.318977, 113.496483, 112.662384, 112.801399, 112.940414,\n",
              "       112.751762, 112.811333, 113.665291, 115.303688, 115.234184,\n",
              "       114.350441, 114.598686, 115.303688, 114.28093 , 112.414146,\n",
              "       111.818367, 111.728996, 111.71907 , 108.680573, 109.544464,\n",
              "       109.127419, 110.527504, 109.991295, 110.567223, 110.944557,\n",
              "       110.040947, 107.876274, 108.938751, 107.757111, 107.459229,\n",
              "       106.307381, 105.215111, 105.711594, 108.968536, 109.355797,\n",
              "       109.594116, 108.392624, 109.564316, 109.901932, 108.501839,\n",
              "       108.769943, 109.047974, 108.452194, 109.931717, 109.137352,\n",
              "       109.415382, 108.670654, 107.896133, 107.002464, 107.7174  ,\n",
              "       108.07486 , 111.014061, 112.880844, 113.      , 112.82    ,\n",
              "       113.489998, 112.870003, 113.349998, 113.019997, 114.099998,\n",
              "       115.300003, 113.900002, 115.120003, 113.989998, 114.669998,\n",
              "       113.540001, 114.269997, 116.360001, 116.830002, 115.709999,\n",
              "       116.220001, 115.849998, 115.589996, 116.      , 112.940002,\n",
              "       112.93    , 109.57    , 110.43    , 108.029999, 109.860001,\n",
              "       109.739998, 107.68    , 109.339996, 104.800003, 105.199997,\n",
              "       107.720001, 108.690002, 107.309998, 107.610001, 108.720001,\n",
              "       106.019997, 106.870003, 105.739998, 106.800003, 109.220001,\n",
              "       109.860001, 108.559998, 109.870003, 112.370003, 112.610001,\n",
              "       115.400002, 116.870003, 117.190002, 117.910004])"
            ]
          },
          "metadata": {
            "tags": []
          },
          "execution_count": 75
        }
      ]
    },
    {
      "cell_type": "code",
      "metadata": {
        "id": "OOejBb5oamPn",
        "colab_type": "code",
        "colab": {}
      },
      "source": [
        "split_fraction=0.8\n",
        "ind_split=int(split_fraction*num_samples)"
      ],
      "execution_count": 0,
      "outputs": []
    },
    {
      "cell_type": "code",
      "metadata": {
        "id": "2U0avhvAaopS",
        "colab_type": "code",
        "colab": {}
      },
      "source": [
        "x_train = x[:ind_split]\n",
        "y_train = y[:ind_split]\n",
        "x_test = x[ind_split:]\n",
        "y_test = y[ind_split:]"
      ],
      "execution_count": 0,
      "outputs": []
    },
    {
      "cell_type": "code",
      "metadata": {
        "id": "RAIDZJezarQF",
        "colab_type": "code",
        "outputId": "696ef29a-49ce-44f4-bdfc-3708c92195cf",
        "colab": {
          "base_uri": "https://localhost:8080/",
          "height": 34
        }
      },
      "source": [
        "y_test.shape\n"
      ],
      "execution_count": 0,
      "outputs": [
        {
          "output_type": "execute_result",
          "data": {
            "text/plain": [
              "(50,)"
            ]
          },
          "metadata": {
            "tags": []
          },
          "execution_count": 78
        }
      ]
    },
    {
      "cell_type": "code",
      "metadata": {
        "id": "esYBu23FbQto",
        "colab_type": "code",
        "colab": {}
      },
      "source": [
        "x_test.shape"
      ],
      "execution_count": 0,
      "outputs": []
    },
    {
      "cell_type": "markdown",
      "metadata": {
        "id": "ucpaYniM9Rwj",
        "colab_type": "text"
      },
      "source": [
        "## Modeling"
      ]
    },
    {
      "cell_type": "code",
      "metadata": {
        "id": "-YQCdIZLazlO",
        "colab_type": "code",
        "colab": {}
      },
      "source": [
        "def get_performance (model_pred):\n",
        "  #Function returns standard performance metrics\n",
        "  print('Mean Absolute Error:', metrics.mean_absolute_error(y_test, model_pred).round(4))  \n",
        "  print('Mean Squared Error:', metrics.mean_squared_error(y_test, model_pred).round(4))  \n",
        "  print('Root Mean Squared Error:', np.sqrt(metrics.mean_squared_error(y_test, model_pred)).round(4))\n",
        "  \n",
        "  \n",
        "  \n",
        "def get_plot (model_pred):\n",
        "  plt.scatter(model_pred, y_test, color=\"gray\")\n",
        "  plt.plot(y_test, y_test, color='red', linewidth=2)"
      ],
      "execution_count": 0,
      "outputs": []
    },
    {
      "cell_type": "markdown",
      "metadata": {
        "id": "Gdw1rHh_bF0Y",
        "colab_type": "text"
      },
      "source": [
        "#**Linear Regression**"
      ]
    },
    {
      "cell_type": "code",
      "metadata": {
        "id": "luyEg4FnbT_o",
        "colab_type": "code",
        "outputId": "154a02cd-cafe-4589-bd46-d1c883cf3d23",
        "colab": {
          "base_uri": "https://localhost:8080/",
          "height": 376
        }
      },
      "source": [
        "model_lr=LinearRegression()\n",
        "model_lr.fit(x_train, y_train)\n",
        "y_pred_lr=model_lr.predict(x_test)\n",
        "get_performance(y_pred_lr)\n",
        "get_plot(y_pred_lr)\n",
        "get_performance(y_pred_lr)"
      ],
      "execution_count": 0,
      "outputs": [
        {
          "output_type": "stream",
          "text": [
            "Mean Absolute Error: 1.3915\n",
            "Mean Squared Error: 3.0966\n",
            "Root Mean Squared Error: 1.7597\n",
            "Mean Absolute Error: 1.3915\n",
            "Mean Squared Error: 3.0966\n",
            "Root Mean Squared Error: 1.7597\n"
          ],
          "name": "stdout"
        },
        {
          "output_type": "display_data",
          "data": {
            "image/png": "[encoded data removed]",
            "text/plain": [
              "<Figure size 432x288 with 1 Axes>"
            ]
          },
          "metadata": {
            "tags": []
          }
        }
      ]
    },
    {
      "cell_type": "markdown",
      "metadata": {
        "id": "HNzqH0FSbq2T",
        "colab_type": "text"
      },
      "source": [
        "# Method #1- Ridge Regression¶\n"
      ]
    },
    {
      "cell_type": "code",
      "metadata": {
        "id": "J6r1QDDfbtnv",
        "colab_type": "code",
        "outputId": "c3257871-2f32-4945-a6a9-56e09f3cdc9c",
        "colab": {
          "base_uri": "https://localhost:8080/",
          "height": 325
        }
      },
      "source": [
        "\n",
        "model_ridge = Ridge()\n",
        "model_ridge.fit(x_train, y_train)\n",
        "\n",
        "#generate predictions\n",
        "y_pred_ridge=model_ridge.predict(x_test)\n",
        "get_performance(y_pred_ridge)\n",
        "get_plot(y_pred_ridge)"
      ],
      "execution_count": 0,
      "outputs": [
        {
          "output_type": "stream",
          "text": [
            "Mean Absolute Error: 1.3873\n",
            "Mean Squared Error: 3.0709\n",
            "Root Mean Squared Error: 1.7524\n"
          ],
          "name": "stdout"
        },
        {
          "output_type": "display_data",
          "data": {
            "image/png": "[encoded data removed]",
            "text/plain": [
              "<Figure size 432x288 with 1 Axes>"
            ]
          },
          "metadata": {
            "tags": []
          }
        }
      ]
    }
  ]
}